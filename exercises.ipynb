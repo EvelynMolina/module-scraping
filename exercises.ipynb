{
 "cells": [
  {
   "cell_type": "code",
   "execution_count": 19,
   "metadata": {
    "autoscroll": false,
    "ein.hycell": false,
    "ein.tags": "worksheet-0",
    "slideshow": {
     "slide_type": "-"
    }
   },
   "outputs": [],
   "source": [
    "# Our jupyter/datascience-notebook Docker container comes with \n",
    "# BeautifulSoup4 and requests, both popular libraries!\n",
    "\n",
    "from bs4 import BeautifulSoup\n",
    "import requests"
   ]
  },
  {
   "cell_type": "code",
   "execution_count": 20,
   "metadata": {
    "autoscroll": false,
    "ein.hycell": false,
    "ein.tags": "worksheet-0",
    "slideshow": {
     "slide_type": "-"
    }
   },
   "outputs": [
    {
     "data": {
      "text/plain": [
       "200"
      ]
     },
     "execution_count": 20,
     "metadata": {},
     "output_type": "execute_result"
    }
   ],
   "source": [
    "START_URL = 'https://brickset.com/sets/year-2016'\n"
   ]
  },
  {
   "cell_type": "code",
   "execution_count": 21,
   "metadata": {},
   "outputs": [],
   "source": [
    "soup = BeautifulSoup(result.content, \"html.parser\")"
   ]
  },
  {
   "cell_type": "code",
   "execution_count": 22,
   "metadata": {},
   "outputs": [
    {
     "name": "stdout",
     "output_type": "stream",
     "text": [
      "10251:  Brick Bank\n",
      "10252:  Volkswagen Beetle\n",
      "10253:  Big Ben\n",
      "10254:  Winter Holiday Train\n",
      "10654:  XL Creative Brick Box\n",
      "10702:  Creative Building Set\n",
      "10705:  Creative Building Basket\n",
      "10720:  Police Helicopter Chase\n",
      "10721:  Iron Man vs. Loki\n",
      "10722:  Snake Showdown\n",
      "10723:  Ariel's Dolphin Carriage\n",
      "10724:  Batman & Superman vs. Lex Luthor\n",
      "10725:  Lost Temple\n",
      "10726:  Stephanie's Horse Carriage\n",
      "10727:  Emma's Ice Cream Truck\n",
      "10728:  Mia's Vet Clinic\n",
      "10729:  Cinderella's Carriage\n",
      "10801:  Baby Animals\n",
      "10802:  Savanna\n",
      "10803:  Arctic\n",
      "10804:  Jungle\n",
      "10805:  Around the World\n",
      "10806:  Horses\n",
      "10807:  Horse Trailer\n",
      "10808:  Little Plane\n"
     ]
    }
   ],
   "source": [
    "for titles in soup.select(\".meta h1 a\"):\n",
    "     print(titles.text)"
   ]
  },
  {
   "cell_type": "code",
   "execution_count": 33,
   "metadata": {
    "autoscroll": false,
    "ein.hycell": false,
    "ein.tags": "worksheet-0",
    "slideshow": {
     "slide_type": "-"
    }
   },
   "outputs": [],
   "source": [
    "def get_title(soup):\n",
    "    test = []\n",
    "    titles = soup.select(\".meta h1 a\")\n",
    "    for subtitles in titles:\n",
    "        test.append(subtitles.text)\n",
    "    return test"
   ]
  },
  {
   "cell_type": "code",
   "execution_count": 34,
   "metadata": {},
   "outputs": [
    {
     "data": {
      "text/plain": [
       "['10251:  Brick Bank',\n",
       " '10252:  Volkswagen Beetle',\n",
       " '10253:  Big Ben',\n",
       " '10254:  Winter Holiday Train',\n",
       " '10654:  XL Creative Brick Box',\n",
       " '10702:  Creative Building Set',\n",
       " '10705:  Creative Building Basket',\n",
       " '10720:  Police Helicopter Chase',\n",
       " '10721:  Iron Man vs. Loki',\n",
       " '10722:  Snake Showdown',\n",
       " \"10723:  Ariel's Dolphin Carriage\",\n",
       " '10724:  Batman & Superman vs. Lex Luthor',\n",
       " '10725:  Lost Temple',\n",
       " \"10726:  Stephanie's Horse Carriage\",\n",
       " \"10727:  Emma's Ice Cream Truck\",\n",
       " \"10728:  Mia's Vet Clinic\",\n",
       " \"10729:  Cinderella's Carriage\",\n",
       " '10801:  Baby Animals',\n",
       " '10802:  Savanna',\n",
       " '10803:  Arctic',\n",
       " '10804:  Jungle',\n",
       " '10805:  Around the World',\n",
       " '10806:  Horses',\n",
       " '10807:  Horse Trailer',\n",
       " '10808:  Little Plane']"
      ]
     },
     "execution_count": 34,
     "metadata": {},
     "output_type": "execute_result"
    }
   ],
   "source": [
    "get_title(soup)"
   ]
  },
  {
   "cell_type": "code",
   "execution_count": 30,
   "metadata": {},
   "outputs": [],
   "source": [
    "def parse_bricks(url):\n",
    "    result = requests.get(START_URL)\n",
    "    soup = BeautifulSoup(result.content, \"html.parser\")\n",
    "    gettitle = get_title(soup)\n",
    "    return gettitle"
   ]
  },
  {
   "cell_type": "code",
   "execution_count": 36,
   "metadata": {
    "autoscroll": false,
    "ein.hycell": false,
    "ein.tags": "worksheet-0",
    "slideshow": {
     "slide_type": "-"
    }
   },
   "outputs": [],
   "source": [
    "bricks = parse_bricks(START_URL)"
   ]
  },
  {
   "cell_type": "code",
   "execution_count": 37,
   "metadata": {
    "autoscroll": false,
    "ein.hycell": false,
    "ein.tags": "worksheet-0",
    "slideshow": {
     "slide_type": "-"
    }
   },
   "outputs": [],
   "source": [
    "assert(bricks[0] == '10251:  Brick Bank')\n",
    "assert(bricks[9] == '10722:  Snake Showdown')"
   ]
  },
  {
   "cell_type": "code",
   "execution_count": null,
   "metadata": {},
   "outputs": [],
   "source": []
  }
 ],
 "metadata": {
  "kernelspec": {
   "display_name": "Python 3",
   "language": "python",
   "name": "python3"
  },
  "language_info": {
   "codemirror_mode": {
    "name": "ipython",
    "version": 3
   },
   "file_extension": ".py",
   "mimetype": "text/x-python",
   "name": "python",
   "nbconvert_exporter": "python",
   "pygments_lexer": "ipython3",
   "version": "3.6.3"
  },
  "name": "exercises.ipynb"
 },
 "nbformat": 4,
 "nbformat_minor": 2
}
